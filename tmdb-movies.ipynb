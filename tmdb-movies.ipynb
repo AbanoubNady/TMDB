{
 "cells": [
  {
   "cell_type": "markdown",
   "metadata": {},
   "source": [
    "# Project: Investigate a Dataset (TMDb movie data)\n",
    "### Start"
   ]
  },
  {
   "cell_type": "markdown",
   "metadata": {},
   "source": [
    "# introduction\n",
    "###### This data set contains information about 10,000 movies collected from The Movie Database (TMDb), including user ratings and revenue.\n",
    "### questions\n",
    "#### how much grow in movies revenue since 1960 till 2015 ?\n",
    "##### how many movies had made with those genre (Adventure,Action,Scince Fiction,Thriller,Fantasy,Crime)?\n"
   ]
  },
  {
   "cell_type": "code",
   "execution_count": 1,
   "metadata": {},
   "outputs": [],
   "source": [
    "####### reading libraries\n",
    "import pandas as pd\n",
    "import numpy as np\n",
    "import matplotlib as plt\n",
    "###### read file\n",
    "df= pd.read_csv('tmdb-movies.csv')"
   ]
  },
  {
   "cell_type": "markdown",
   "metadata": {},
   "source": [
    "# Data Wrangle\n",
    "## assessing data\n",
    "###### some columns have multiple values like genres\n",
    "###### some columns have _adj at end budget_adj and revenue_adj\n",
    "###### some data hase wrong type id should be string\n",
    "###### there a duplicated raw movie with id 42194"
   ]
  },
  {
   "cell_type": "code",
   "execution_count": 2,
   "metadata": {},
   "outputs": [
    {
     "name": "stdout",
     "output_type": "stream",
     "text": [
      "<class 'pandas.core.frame.DataFrame'>\n",
      "RangeIndex: 10866 entries, 0 to 10865\n",
      "Data columns (total 25 columns):\n",
      " #   Column                Non-Null Count  Dtype  \n",
      "---  ------                --------------  -----  \n",
      " 0   id                    10866 non-null  int64  \n",
      " 1   imdb_id               10856 non-null  object \n",
      " 2   popularity            10866 non-null  float64\n",
      " 3   budget                10866 non-null  int64  \n",
      " 4   revenue               10866 non-null  int64  \n",
      " 5   original_title        10866 non-null  object \n",
      " 6   cast                  10790 non-null  object \n",
      " 7   homepage              2936 non-null   object \n",
      " 8   director              10822 non-null  object \n",
      " 9   tagline               8040 non-null   object \n",
      " 10  keywords              9374 non-null   object \n",
      " 11  overview              10860 non-null  object \n",
      " 12  runtime               10866 non-null  object \n",
      " 13  genres                10843 non-null  object \n",
      " 14  production_companies  9845 non-null   object \n",
      " 15  release_date          10858 non-null  object \n",
      " 16  vote_count            10866 non-null  object \n",
      " 17  vote_average          10865 non-null  object \n",
      " 18  release_year          10866 non-null  object \n",
      " 19  budget_adj            10866 non-null  object \n",
      " 20  revenue_adj           10866 non-null  float64\n",
      " 21  Unnamed: 21           41 non-null     float64\n",
      " 22  Unnamed: 22           4 non-null      float64\n",
      " 23  Unnamed: 23           3 non-null      float64\n",
      " 24  Unnamed: 24           1 non-null      float64\n",
      "dtypes: float64(6), int64(3), object(16)\n",
      "memory usage: 2.1+ MB\n",
      "None\n",
      "       id    imdb_id  popularity     budget     revenue  \\\n",
      "0  135397  tt0369610   32.985763  150000000  1513528810   \n",
      "1   76341  tt1392190   28.419936  150000000   378436354   \n",
      "2  262500  tt2908446   13.112507  110000000   295238201   \n",
      "3  140607  tt2488496   11.173104  200000000  2068178225   \n",
      "4  168259  tt2820852    9.335014  190000000  1506249360   \n",
      "\n",
      "                 original_title  \\\n",
      "0                Jurassic World   \n",
      "1            Mad Max: Fury Road   \n",
      "2                     Insurgent   \n",
      "3  Star Wars: The Force Awakens   \n",
      "4                     Furious 7   \n",
      "\n",
      "                                                cast  \\\n",
      "0  Chris Pratt|Bryce Dallas Howard|Irrfan Khan|Vi...   \n",
      "1  Tom Hardy|Charlize Theron|Hugh Keays-Byrne|Nic...   \n",
      "2  Shailene Woodley|Theo James|Kate Winslet|Ansel...   \n",
      "3  Harrison Ford|Mark Hamill|Carrie Fisher|Adam D...   \n",
      "4  Vin Diesel|Paul Walker|Jason Statham|Michelle ...   \n",
      "\n",
      "                                            homepage          director  \\\n",
      "0                      http://www.jurassicworld.com/   Colin Trevorrow   \n",
      "1                        http://www.madmaxmovie.com/     George Miller   \n",
      "2     http://www.thedivergentseries.movie/#insurgent  Robert Schwentke   \n",
      "3  http://www.starwars.com/films/star-wars-episod...       J.J. Abrams   \n",
      "4                           http://www.furious7.com/         James Wan   \n",
      "\n",
      "                         tagline  ... release_date vote_count vote_average  \\\n",
      "0              The park is open.  ...       6/9/15       5562          6.5   \n",
      "1             What a Lovely Day.  ...      5/13/15       6185          7.1   \n",
      "2     One Choice Can Destroy You  ...      3/18/15       2480          6.3   \n",
      "3  Every generation has a story.  ...     12/15/15       5292          7.5   \n",
      "4            Vengeance Hits Home  ...       4/1/15       2947          7.3   \n",
      "\n",
      "  release_year        budget_adj   revenue_adj Unnamed: 21 Unnamed: 22  \\\n",
      "0         2015  137999939.280026  1.392446e+09         NaN         NaN   \n",
      "1         2015  137999939.280026  3.481613e+08         NaN         NaN   \n",
      "2         2015  101199955.472019  2.716190e+08         NaN         NaN   \n",
      "3         2015  183999919.040035  1.902723e+09         NaN         NaN   \n",
      "4         2015  174799923.088033  1.385749e+09         NaN         NaN   \n",
      "\n",
      "  Unnamed: 23 Unnamed: 24  \n",
      "0         NaN         NaN  \n",
      "1         NaN         NaN  \n",
      "2         NaN         NaN  \n",
      "3         NaN         NaN  \n",
      "4         NaN         NaN  \n",
      "\n",
      "[5 rows x 25 columns]\n",
      "         id    imdb_id  popularity    budget  revenue original_title  \\\n",
      "2090  42194  tt0411951     0.59643  30000000   967000         TEKKEN   \n",
      "\n",
      "                                                   cast homepage  \\\n",
      "2090  Jon Foo|Kelly Overton|Cary-Hiroyuki Tagawa|Ian...      NaN   \n",
      "\n",
      "              director              tagline  ... release_date vote_count  \\\n",
      "2090  Dwight H. Little  Survival is no game  ...      3/20/10        110   \n",
      "\n",
      "     vote_average release_year budget_adj revenue_adj Unnamed: 21 Unnamed: 22  \\\n",
      "2090            5         2010   30000000    967000.0         NaN         NaN   \n",
      "\n",
      "     Unnamed: 23 Unnamed: 24  \n",
      "2090         NaN         NaN  \n",
      "\n",
      "[1 rows x 25 columns]\n"
     ]
    }
   ],
   "source": [
    "### display some details of the data(first 5 raws and datatypes and duplicated raws) to detect the problems in it and \n",
    "def assess_the_data(df):\n",
    "    print(df.info())\n",
    "    print(df.head())\n",
    "    print(df[df.duplicated()])\n",
    "assess_the_data(df)"
   ]
  },
  {
   "cell_type": "markdown",
   "metadata": {},
   "source": [
    "## clean data"
   ]
  },
  {
   "cell_type": "markdown",
   "metadata": {},
   "source": [
    "##### some column has multiple values so i splited them into 4 columns one for each value"
   ]
  },
  {
   "cell_type": "code",
   "execution_count": null,
   "metadata": {},
   "outputs": [],
   "source": []
  },
  {
   "cell_type": "code",
   "execution_count": 3,
   "metadata": {},
   "outputs": [],
   "source": [
    "#split the column with | to for columns\n",
    "x=df['genres'].str.split('|',expand=True)\n",
    "df['genre 1']=x[0]\n",
    "df['genre 2']=x[1]\n",
    "df['genre 3']=x[2]\n",
    "df['genre 4']=x[3]\n",
    "z=df['cast'].str.split('|',expand=True)\n",
    "df['actor1']=z[0]\n",
    "df['actor2']=z[1]\n",
    "df['actor3']=z[2]\n",
    "df['actor4']=z[3]\n",
    "df.drop(columns=['cast','genres'],inplace=True)"
   ]
  },
  {
   "cell_type": "markdown",
   "metadata": {},
   "source": [
    "##### some columns have a _adj at the end so i renamed it to in US Dollars"
   ]
  },
  {
   "cell_type": "code",
   "execution_count": 4,
   "metadata": {},
   "outputs": [
    {
     "data": {
      "text/html": [
       "<div>\n",
       "<style scoped>\n",
       "    .dataframe tbody tr th:only-of-type {\n",
       "        vertical-align: middle;\n",
       "    }\n",
       "\n",
       "    .dataframe tbody tr th {\n",
       "        vertical-align: top;\n",
       "    }\n",
       "\n",
       "    .dataframe thead th {\n",
       "        text-align: right;\n",
       "    }\n",
       "</style>\n",
       "<table border=\"1\" class=\"dataframe\">\n",
       "  <thead>\n",
       "    <tr style=\"text-align: right;\">\n",
       "      <th></th>\n",
       "      <th>id</th>\n",
       "      <th>imdb_id</th>\n",
       "      <th>popularity</th>\n",
       "      <th>budget</th>\n",
       "      <th>revenue</th>\n",
       "      <th>original_title</th>\n",
       "      <th>homepage</th>\n",
       "      <th>director</th>\n",
       "      <th>tagline</th>\n",
       "      <th>keywords</th>\n",
       "      <th>...</th>\n",
       "      <th>Unnamed: 23</th>\n",
       "      <th>Unnamed: 24</th>\n",
       "      <th>genre 1</th>\n",
       "      <th>genre 2</th>\n",
       "      <th>genre 3</th>\n",
       "      <th>genre 4</th>\n",
       "      <th>actor1</th>\n",
       "      <th>actor2</th>\n",
       "      <th>actor3</th>\n",
       "      <th>actor4</th>\n",
       "    </tr>\n",
       "  </thead>\n",
       "  <tbody>\n",
       "    <tr>\n",
       "      <th>0</th>\n",
       "      <td>135397</td>\n",
       "      <td>tt0369610</td>\n",
       "      <td>32.985763</td>\n",
       "      <td>150000000</td>\n",
       "      <td>1513528810</td>\n",
       "      <td>Jurassic World</td>\n",
       "      <td>http://www.jurassicworld.com/</td>\n",
       "      <td>Colin Trevorrow</td>\n",
       "      <td>The park is open.</td>\n",
       "      <td>monster|dna|tyrannosaurus rex|velociraptor|island</td>\n",
       "      <td>...</td>\n",
       "      <td>NaN</td>\n",
       "      <td>NaN</td>\n",
       "      <td>Action</td>\n",
       "      <td>Adventure</td>\n",
       "      <td>Science Fiction</td>\n",
       "      <td>Thriller</td>\n",
       "      <td>Chris Pratt</td>\n",
       "      <td>Bryce Dallas Howard</td>\n",
       "      <td>Irrfan Khan</td>\n",
       "      <td>Vincent D'Onofrio</td>\n",
       "    </tr>\n",
       "    <tr>\n",
       "      <th>1</th>\n",
       "      <td>76341</td>\n",
       "      <td>tt1392190</td>\n",
       "      <td>28.419936</td>\n",
       "      <td>150000000</td>\n",
       "      <td>378436354</td>\n",
       "      <td>Mad Max: Fury Road</td>\n",
       "      <td>http://www.madmaxmovie.com/</td>\n",
       "      <td>George Miller</td>\n",
       "      <td>What a Lovely Day.</td>\n",
       "      <td>future|chase|post-apocalyptic|dystopia|australia</td>\n",
       "      <td>...</td>\n",
       "      <td>NaN</td>\n",
       "      <td>NaN</td>\n",
       "      <td>Action</td>\n",
       "      <td>Adventure</td>\n",
       "      <td>Science Fiction</td>\n",
       "      <td>Thriller</td>\n",
       "      <td>Tom Hardy</td>\n",
       "      <td>Charlize Theron</td>\n",
       "      <td>Hugh Keays-Byrne</td>\n",
       "      <td>Nicholas Hoult</td>\n",
       "    </tr>\n",
       "    <tr>\n",
       "      <th>2</th>\n",
       "      <td>262500</td>\n",
       "      <td>tt2908446</td>\n",
       "      <td>13.112507</td>\n",
       "      <td>110000000</td>\n",
       "      <td>295238201</td>\n",
       "      <td>Insurgent</td>\n",
       "      <td>http://www.thedivergentseries.movie/#insurgent</td>\n",
       "      <td>Robert Schwentke</td>\n",
       "      <td>One Choice Can Destroy You</td>\n",
       "      <td>based on novel|revolution|dystopia|sequel|dyst...</td>\n",
       "      <td>...</td>\n",
       "      <td>NaN</td>\n",
       "      <td>NaN</td>\n",
       "      <td>Adventure</td>\n",
       "      <td>Science Fiction</td>\n",
       "      <td>Thriller</td>\n",
       "      <td>None</td>\n",
       "      <td>Shailene Woodley</td>\n",
       "      <td>Theo James</td>\n",
       "      <td>Kate Winslet</td>\n",
       "      <td>Ansel Elgort</td>\n",
       "    </tr>\n",
       "    <tr>\n",
       "      <th>3</th>\n",
       "      <td>140607</td>\n",
       "      <td>tt2488496</td>\n",
       "      <td>11.173104</td>\n",
       "      <td>200000000</td>\n",
       "      <td>2068178225</td>\n",
       "      <td>Star Wars: The Force Awakens</td>\n",
       "      <td>http://www.starwars.com/films/star-wars-episod...</td>\n",
       "      <td>J.J. Abrams</td>\n",
       "      <td>Every generation has a story.</td>\n",
       "      <td>android|spaceship|jedi|space opera|3d</td>\n",
       "      <td>...</td>\n",
       "      <td>NaN</td>\n",
       "      <td>NaN</td>\n",
       "      <td>Action</td>\n",
       "      <td>Adventure</td>\n",
       "      <td>Science Fiction</td>\n",
       "      <td>Fantasy</td>\n",
       "      <td>Harrison Ford</td>\n",
       "      <td>Mark Hamill</td>\n",
       "      <td>Carrie Fisher</td>\n",
       "      <td>Adam Driver</td>\n",
       "    </tr>\n",
       "    <tr>\n",
       "      <th>4</th>\n",
       "      <td>168259</td>\n",
       "      <td>tt2820852</td>\n",
       "      <td>9.335014</td>\n",
       "      <td>190000000</td>\n",
       "      <td>1506249360</td>\n",
       "      <td>Furious 7</td>\n",
       "      <td>http://www.furious7.com/</td>\n",
       "      <td>James Wan</td>\n",
       "      <td>Vengeance Hits Home</td>\n",
       "      <td>car race|speed|revenge|suspense|car</td>\n",
       "      <td>...</td>\n",
       "      <td>NaN</td>\n",
       "      <td>NaN</td>\n",
       "      <td>Action</td>\n",
       "      <td>Crime</td>\n",
       "      <td>Thriller</td>\n",
       "      <td>None</td>\n",
       "      <td>Vin Diesel</td>\n",
       "      <td>Paul Walker</td>\n",
       "      <td>Jason Statham</td>\n",
       "      <td>Michelle Rodriguez</td>\n",
       "    </tr>\n",
       "  </tbody>\n",
       "</table>\n",
       "<p>5 rows × 31 columns</p>\n",
       "</div>"
      ],
      "text/plain": [
       "       id    imdb_id  popularity     budget     revenue  \\\n",
       "0  135397  tt0369610   32.985763  150000000  1513528810   \n",
       "1   76341  tt1392190   28.419936  150000000   378436354   \n",
       "2  262500  tt2908446   13.112507  110000000   295238201   \n",
       "3  140607  tt2488496   11.173104  200000000  2068178225   \n",
       "4  168259  tt2820852    9.335014  190000000  1506249360   \n",
       "\n",
       "                 original_title  \\\n",
       "0                Jurassic World   \n",
       "1            Mad Max: Fury Road   \n",
       "2                     Insurgent   \n",
       "3  Star Wars: The Force Awakens   \n",
       "4                     Furious 7   \n",
       "\n",
       "                                            homepage          director  \\\n",
       "0                      http://www.jurassicworld.com/   Colin Trevorrow   \n",
       "1                        http://www.madmaxmovie.com/     George Miller   \n",
       "2     http://www.thedivergentseries.movie/#insurgent  Robert Schwentke   \n",
       "3  http://www.starwars.com/films/star-wars-episod...       J.J. Abrams   \n",
       "4                           http://www.furious7.com/         James Wan   \n",
       "\n",
       "                         tagline  \\\n",
       "0              The park is open.   \n",
       "1             What a Lovely Day.   \n",
       "2     One Choice Can Destroy You   \n",
       "3  Every generation has a story.   \n",
       "4            Vengeance Hits Home   \n",
       "\n",
       "                                            keywords  ... Unnamed: 23  \\\n",
       "0  monster|dna|tyrannosaurus rex|velociraptor|island  ...         NaN   \n",
       "1   future|chase|post-apocalyptic|dystopia|australia  ...         NaN   \n",
       "2  based on novel|revolution|dystopia|sequel|dyst...  ...         NaN   \n",
       "3              android|spaceship|jedi|space opera|3d  ...         NaN   \n",
       "4                car race|speed|revenge|suspense|car  ...         NaN   \n",
       "\n",
       "  Unnamed: 24    genre 1          genre 2          genre 3   genre 4  \\\n",
       "0         NaN     Action        Adventure  Science Fiction  Thriller   \n",
       "1         NaN     Action        Adventure  Science Fiction  Thriller   \n",
       "2         NaN  Adventure  Science Fiction         Thriller      None   \n",
       "3         NaN     Action        Adventure  Science Fiction   Fantasy   \n",
       "4         NaN     Action            Crime         Thriller      None   \n",
       "\n",
       "             actor1               actor2            actor3              actor4  \n",
       "0       Chris Pratt  Bryce Dallas Howard       Irrfan Khan   Vincent D'Onofrio  \n",
       "1         Tom Hardy      Charlize Theron  Hugh Keays-Byrne      Nicholas Hoult  \n",
       "2  Shailene Woodley           Theo James      Kate Winslet        Ansel Elgort  \n",
       "3     Harrison Ford          Mark Hamill     Carrie Fisher         Adam Driver  \n",
       "4        Vin Diesel          Paul Walker     Jason Statham  Michelle Rodriguez  \n",
       "\n",
       "[5 rows x 31 columns]"
      ]
     },
     "execution_count": 4,
     "metadata": {},
     "output_type": "execute_result"
    }
   ],
   "source": [
    "#renaming the columns\n",
    "df=df.rename(columns={'budget_adj':'budget in US Dollars','revenue_adj':'revenue in US Dollars'})\n",
    "df.head()"
   ]
  },
  {
   "cell_type": "markdown",
   "metadata": {},
   "source": [
    "##### some data has wrong type like release date and id"
   ]
  },
  {
   "cell_type": "code",
   "execution_count": 5,
   "metadata": {},
   "outputs": [],
   "source": [
    "#change the data type to string\n",
    "df['id']=df['id'].astype('str')"
   ]
  },
  {
   "cell_type": "markdown",
   "metadata": {},
   "source": [
    "##### duplictated raw"
   ]
  },
  {
   "cell_type": "code",
   "execution_count": 6,
   "metadata": {},
   "outputs": [],
   "source": [
    "#remmoving duplicated raws\n",
    "\n",
    "df=df.drop_duplicates()"
   ]
  },
  {
   "cell_type": "markdown",
   "metadata": {},
   "source": [
    "### exploration "
   ]
  },
  {
   "cell_type": "markdown",
   "metadata": {},
   "source": [
    "## question 1\n",
    "#### how much grow in movies revenue since 1960 till 2015 ?"
   ]
  },
  {
   "cell_type": "code",
   "execution_count": 7,
   "metadata": {},
   "outputs": [
    {
     "data": {
      "text/plain": [
       "<matplotlib.axes._subplots.AxesSubplot at 0x7f094e86d350>"
      ]
     },
     "execution_count": 7,
     "metadata": {},
     "output_type": "execute_result"
    },
    {
     "data": {
      "image/png": "[encoded data removed]",
      "text/plain": [
       "<Figure size 432x288 with 1 Axes>"
      ]
     },
     "metadata": {
      "needs_background": "light"
     },
     "output_type": "display_data"
    }
   ],
   "source": [
    "# group the data by year and ploting  it \n",
    "revenue_each_year=df.groupby('release_year').sum()['revenue']\n",
    "\n",
    "revenue_each_year.plot(kind='line',ylabel='revenue',title='revenue growth')"
   ]
  },
  {
   "cell_type": "markdown",
   "metadata": {},
   "source": [
    "## question 2\n",
    "##### how many movies had made with those genre (Adventure,Action,Scince Fiction,Thriller,Fantasy,Crime)?"
   ]
  },
  {
   "cell_type": "code",
   "execution_count": 8,
   "metadata": {},
   "outputs": [],
   "source": [
    "#counting Adventure movies\n",
    "adventure_movies=df[(df['genre 1']=='Adventure')| (df['genre 2']=='Adventure')|(df['genre 3']=='Adventure')|(df['genre 4']=='Adventure') ]\n",
    "adventure_movies_count=adventure_movies['id'].count()"
   ]
  },
  {
   "cell_type": "code",
   "execution_count": 9,
   "metadata": {},
   "outputs": [],
   "source": [
    "#counting Action movies\n",
    "action_movies=df[(df['genre 1']=='Action')| (df['genre 2']=='Action')|(df['genre 3']=='Action')|(df['genre 4']=='Action') ]\n",
    "action_movies_count=action_movies['id'].count()"
   ]
  },
  {
   "cell_type": "code",
   "execution_count": 10,
   "metadata": {},
   "outputs": [],
   "source": [
    "#counting Science fiction movies \n",
    "science_fiction_movies=df[(df['genre 1']=='Science Fiction')| (df['genre 2']=='Science Fiction')|(df['genre 3']=='Science Fiction')|(df['genre 4']=='Science Fiction') ]\n",
    "science_fiction_movies_count=science_fiction_movies['id'].count()"
   ]
  },
  {
   "cell_type": "code",
   "execution_count": 11,
   "metadata": {},
   "outputs": [],
   "source": [
    "#counting Thriller movies\n",
    "Thriller_movies=df[(df['genre 1']=='Thriller')| (df['genre 2']=='Thriller')|(df['genre 3']=='Thriller')|(df['genre 4']=='Thriller') ]\n",
    "Thriller_movies_count=Thriller_movies['id'].count()"
   ]
  },
  {
   "cell_type": "code",
   "execution_count": 12,
   "metadata": {},
   "outputs": [],
   "source": [
    "#counting Fantasy movies\n",
    "fantasy_movies=df[(df['genre 1']=='Fantasy')| (df['genre 2']=='Fantasy')|(df['genre 3']=='Fantasy')|(df['genre 4']=='Fantasy') ]\n",
    "fantasy_movies_count=fantasy_movies['id'].count()"
   ]
  },
  {
   "cell_type": "code",
   "execution_count": 13,
   "metadata": {},
   "outputs": [],
   "source": [
    "#counting Crime movies\n",
    "crime_movies=df[(df['genre 1']=='Crime')| (df['genre 2']=='Crime')|(df['genre 3']=='Crime')|(df['genre 4']=='Crime') ]\n",
    "crime_movies_count=crime_movies['id'].count()"
   ]
  },
  {
   "cell_type": "code",
   "execution_count": 14,
   "metadata": {},
   "outputs": [],
   "source": [
    "#make data frame to count\n",
    "movies_count=pd.DataFrame({'Adventure':[adventure_movies_count],'Action':[action_movies_count],'Science Fiction':[science_fiction_movies_count],'Thriller':[Thriller_movies_count],'fantasy_movies':[fantasy_movies_count],'Crime':[crime_movies_count]})"
   ]
  },
  {
   "cell_type": "code",
   "execution_count": 15,
   "metadata": {},
   "outputs": [
    {
     "data": {
      "text/plain": [
       "<matplotlib.axes._subplots.AxesSubplot at 0x7f094eea3990>"
      ]
     },
     "execution_count": 15,
     "metadata": {},
     "output_type": "execute_result"
    },
    {
     "data": {
      "image/png": "[encoded data removed]",
      "text/plain": [
       "<Figure size 432x288 with 1 Axes>"
      ]
     },
     "metadata": {
      "needs_background": "light"
     },
     "output_type": "display_data"
    }
   ],
   "source": [
    "#plot\n",
    "movies_count.plot.bar(ylabel='count of genre',xlabel='movies genre',title='count fof movies')"
   ]
  },
  {
   "cell_type": "markdown",
   "metadata": {},
   "source": [
    "## Conclusions\n",
    "###### in the first question the growth in movies revenues is increasing over time it starts on 1960 with less than .5(145005000) billion and increased until it reach more than 26 billon (26762450518) at 2015"
   ]
  },
  {
   "cell_type": "markdown",
   "metadata": {},
   "source": [
    "###### in the second one the number of movies of has Thriller in genres are made the most with more than 2500 movie (2787movie) and the movies with fantasy in it`s genres are made the least among the options with less than 1000 (875 movie)"
   ]
  },
  {
   "cell_type": "markdown",
   "metadata": {},
   "source": [
    "###### the data provided in this dataset is sufficant to answer my questions \n",
    "###### the size of data set was good to display an analysis to a good period of time\n",
    "###### the major difculty of this data set was multiple data in one column\n",
    "###### dropping lines was not an issue "
   ]
  },
  {
   "cell_type": "code",
   "execution_count": null,
   "metadata": {},
   "outputs": [],
   "source": []
  },
  {
   "cell_type": "code",
   "execution_count": null,
   "metadata": {},
   "outputs": [],
   "source": []
  }
 ],
 "metadata": {
  "kernelspec": {
   "display_name": "Python 3",
   "language": "python",
   "name": "python3"
  },
  "language_info": {
   "codemirror_mode": {
    "name": "ipython",
    "version": 3
   },
   "file_extension": ".py",
   "mimetype": "text/x-python",
   "name": "python",
   "nbconvert_exporter": "python",
   "pygments_lexer": "ipython3",
   "version": "3.7.8"
  }
 },
 "nbformat": 4,
 "nbformat_minor": 4
}
